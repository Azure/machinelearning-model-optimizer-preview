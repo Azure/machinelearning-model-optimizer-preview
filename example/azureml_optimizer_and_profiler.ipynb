{
 "cells": [
  {
   "attachments": {},
   "cell_type": "markdown",
   "metadata": {},
   "source": [
    "# AzureML Optimizer and Profiler\n",
    "This notebooks shows steps for creating optimizer and profiler jobs on the azureml platform"
   ]
  },
  {
   "attachments": {},
   "cell_type": "markdown",
   "metadata": {},
   "source": [
    "Install Azure-Cli  \n",
    "  \n",
    "- Please install azure-cli with the following command:  \n",
    "`curl -sL https://aka.ms/InstallAzureCLIDeb | bash && az version`\n",
    "- Or if you already have azure-cli installed, please upgrade it with the following command:  \n",
    "`az upgrade -y`"
   ]
  },
  {
   "cell_type": "code",
   "execution_count": null,
   "metadata": {
    "vscode": {
     "languageId": "shellscript"
    }
   },
   "outputs": [],
   "source": [
    "# install azure-cli ml extension\n",
    "!az extension remove --name azure-cli-ml\n",
    "!az extension remove --name ml\n",
    "!az extension add --name ml -y\n",
    "!az extension show --name ml"
   ]
  },
  {
   "cell_type": "code",
   "execution_count": null,
   "metadata": {},
   "outputs": [],
   "source": [
    "import os\n",
    "\n",
    "# Env setting for the workspace that runs the profiling job\n",
    "subscription_id = os.getenv(\"SUBSCRIPTION_ID\", default=\"636d700c-4412-48fa-84be-452ac03d34a1\")\n",
    "resource_group = os.getenv(\"RESOURCE_GROUP\", default=\"model-profiler\")\n",
    "workspace_name = os.getenv(\"WORKSPACE_NAME\", default=\"profilervalidation\")"
   ]
  },
  {
   "cell_type": "code",
   "execution_count": null,
   "metadata": {
    "vscode": {
     "languageId": "shellscript"
    }
   },
   "outputs": [],
   "source": [
    "# !az login\n",
    "!az account set --subscription $subscription_id\n",
    "!az configure --defaults group=$resource_group workspace=$workspace_name"
   ]
  },
  {
   "cell_type": "code",
   "execution_count": null,
   "metadata": {
    "vscode": {
     "languageId": "shellscript"
    }
   },
   "outputs": [],
   "source": [
    "from datetime import datetime\n",
    "timestamp = int(datetime.now().timestamp())"
   ]
  },
  {
   "attachments": {},
   "cell_type": "markdown",
   "metadata": {},
   "source": [
    "# Prepare Model"
   ]
  },
  {
   "cell_type": "code",
   "execution_count": null,
   "metadata": {
    "vscode": {
     "languageId": "shellscript"
    }
   },
   "outputs": [],
   "source": [
    "%%bash\n",
    "\n",
    "mkdir -p distilbert_model/model\n",
    "python -m pip install --upgrade pip\n",
    "python -m pip install --upgrade transformers[torch]"
   ]
  },
  {
   "cell_type": "code",
   "execution_count": null,
   "metadata": {},
   "outputs": [],
   "source": [
    "from transformers import AutoModelForQuestionAnswering\n",
    "import torch\n",
    "\n",
    "model_checkpoint = \"distilbert-base-cased-distilled-squad\"\n",
    "model = AutoModelForQuestionAnswering.from_pretrained(model_checkpoint)\n",
    "\n",
    "dynamic_axes = {\n",
    "    \"input_ids\": {0: \"batch_size\", 1: \"seq_length\"},\n",
    "    \"attention_mask\": {0: \"batch_size\", 1: \"seq_length\"},\n",
    "}\n",
    "input_tensor = (\n",
    "    torch.ones(1, 128, dtype=torch.int64).to(\"cpu\"),\n",
    "    torch.ones(1, 128, dtype=torch.int64).to(\"cpu\"),\n",
    ")\n",
    "torch.onnx.export(\n",
    "    model, \n",
    "    input_tensor, \n",
    "    \"distilbert_model/model/distilbert-base-cased-distilled-squad.onnx\", \n",
    "    input_names=[\"input_ids\", \"attention_mask\"], \n",
    "    output_names=[\"start_logits\", \"end_logits\"],\n",
    "    opset_version=17,\n",
    "    dynamic_axes=dynamic_axes)"
   ]
  },
  {
   "attachments": {},
   "cell_type": "markdown",
   "metadata": {},
   "source": [
    "# Step 1: Optimize your model"
   ]
  },
  {
   "cell_type": "code",
   "execution_count": null,
   "metadata": {
    "vscode": {
     "languageId": "shellscript"
    }
   },
   "outputs": [],
   "source": [
    "%cd optimizer"
   ]
  },
  {
   "attachments": {},
   "cell_type": "markdown",
   "metadata": {},
   "source": [
    "### Set Environment Variables"
   ]
  },
  {
   "cell_type": "code",
   "execution_count": null,
   "metadata": {},
   "outputs": [],
   "source": [
    "%set_env OPTIMIZER_JOB_NAME=optimization-job-$timestamp\n",
    "%set_env OPTIMIZER_COMPUTE_NAME=optimizerF8\n",
    "%set_env INFERENCE_SERVICE_COMPUTE_SIZE=Standard_F8s_v2\n",
    "%set_env OPTIMIZER_DOWNLOAD_FOLDER=../downloads/optimizer_output"
   ]
  },
  {
   "attachments": {},
   "cell_type": "markdown",
   "metadata": {},
   "source": [
    "\n",
    "### Create an Aml Compute"
   ]
  },
  {
   "cell_type": "code",
   "execution_count": null,
   "metadata": {
    "tags": [],
    "vscode": {
     "languageId": "shellscript"
    }
   },
   "outputs": [],
   "source": [
    "!az ml compute create --name $OPTIMIZER_COMPUTE_NAME --size $INFERENCE_SERVICE_COMPUTE_SIZE --identity-type SystemAssigned --type amlcompute"
   ]
  },
  {
   "attachments": {},
   "cell_type": "markdown",
   "metadata": {},
   "source": [
    "### Create the Olive Optimizer Job Yaml"
   ]
  },
  {
   "cell_type": "code",
   "execution_count": null,
   "metadata": {
    "vscode": {
     "languageId": "shellscript"
    }
   },
   "outputs": [],
   "source": [
    "%%bash\n",
    "\n",
    "envsubst '$OPTIMIZER_COMPUTE_NAME $OPTIMIZER_JOB_NAME' < optimizer_job_template.yml > optimizer_job.yml"
   ]
  },
  {
   "attachments": {},
   "cell_type": "markdown",
   "metadata": {},
   "source": [
    "### Create the Olive Optimizer Job and Wait Until Job To Finish"
   ]
  },
  {
   "cell_type": "code",
   "execution_count": null,
   "metadata": {
    "vscode": {
     "languageId": "shellscript"
    }
   },
   "outputs": [],
   "source": [
    "%%bash\n",
    "\n",
    "az ml job create --name $OPTIMIZER_JOB_NAME --file optimizer_job.yml\n",
    "\n",
    "status=\"\"\n",
    "while [[ ! \"$status\" =~ ^(Completed|Failed|Canceled|NotResponding|Paused)$ ]];\n",
    "do\n",
    "    status=$(az ml job show --name $OPTIMIZER_JOB_NAME --query \"status\" -o tsv)\n",
    "    echo \"Current status: $status\"\n",
    "    sleep 3\n",
    "done\n",
    "\n",
    "if [ \"$status\" != \"Completed\" ]; then echo \"Optimizer job $OPTIMIZER_JOB_NAME failed!\" && exit 1; fi"
   ]
  },
  {
   "attachments": {},
   "cell_type": "markdown",
   "metadata": {},
   "source": [
    "### Download Output Files and Copy Files to The Deployer Folder"
   ]
  },
  {
   "cell_type": "code",
   "execution_count": null,
   "metadata": {
    "vscode": {
     "languageId": "shellscript"
    }
   },
   "outputs": [],
   "source": [
    "%%bash\n",
    "\n",
    "az ml job download --name $OPTIMIZER_JOB_NAME --all --download-path $OPTIMIZER_DOWNLOAD_FOLDER\n",
    "\n",
    "mkdir -p ../distilbert_model/optimized_model\n",
    "cp $OPTIMIZER_DOWNLOAD_FOLDER/named-outputs/optimized_model/cpu-cpu_BestCandidateModel_1_model.onnx ../distilbert_model/optimized_model/distilbert-base-cased-distilled-squad.onnx\n",
    "cp $OPTIMIZER_DOWNLOAD_FOLDER/named-outputs/optimized_parameters/cpu-cpu_BestCandidateModel_1_inference_config.json ../deployer/optimized_parameters.json"
   ]
  },
  {
   "attachments": {},
   "cell_type": "markdown",
   "metadata": {},
   "source": [
    "# Step 2: Deploy model to an oline-endpoint"
   ]
  },
  {
   "cell_type": "code",
   "execution_count": null,
   "metadata": {
    "vscode": {
     "languageId": "shellscript"
    }
   },
   "outputs": [],
   "source": [
    "%cd ../deployer"
   ]
  },
  {
   "attachments": {},
   "cell_type": "markdown",
   "metadata": {},
   "source": [
    "### Set Environment Variables"
   ]
  },
  {
   "cell_type": "code",
   "execution_count": null,
   "metadata": {
    "vscode": {
     "languageId": "shellscript"
    }
   },
   "outputs": [],
   "source": [
    "%set_env DEPLOYER_JOB_NAME=deployer-job-$timestamp\n",
    "%set_env DEPLOYER_COMPUTE_NAME=deploymentTest\n",
    "%set_env DEPLOYER_COMPUTE_SIZE=Standard_F4s_v2\n",
    "%set_env DEPLOYER_DOWNLOAD_FOLDER=../downloads/deployer_output\n",
    "%set_env ENDPOINT_NAME=distilbert-optimized-endpt\n",
    "%set_env DEPLOYMENT_NAME=distilbert-optimized-dep"
   ]
  },
  {
   "attachments": {},
   "cell_type": "markdown",
   "metadata": {},
   "source": [
    "### Create an Aml Compute"
   ]
  },
  {
   "cell_type": "code",
   "execution_count": null,
   "metadata": {
    "vscode": {
     "languageId": "shellscript"
    }
   },
   "outputs": [],
   "source": [
    "%%bash\n",
    "\n",
    "az ml compute create --name $DEPLOYER_COMPUTE_NAME --size $DEPLOYER_COMPUTE_SIZE --identity-type SystemAssigned --type amlcompute\n",
    "\n",
    "# Create a role-assignment\n",
    "compute_info=`az ml compute show --name $DEPLOYER_COMPUTE_NAME --query '{\"id\": id, \"identity_object_id\": identity.principal_id}' -o json`\n",
    "workspace_resource_id=`echo $compute_info | jq -r '.id' | sed 's/\\(.*\\)\\/computes\\/.*/\\1/'`\n",
    "identity_object_id=`echo $compute_info | jq -r '.identity_object_id'`\n",
    "az role assignment create --role Contributor --assignee-object-id $identity_object_id --assignee-principal-type ServicePrincipal --scope $workspace_resource_id\n",
    "if [[ $? -ne 0 ]]; then echo \"Failed to create role assignment for compute $DEPLOYER_COMPUTE_NAME\" && exit 1; fi"
   ]
  },
  {
   "attachments": {},
   "cell_type": "markdown",
   "metadata": {},
   "source": [
    "### Create the Deployer Job Yaml, Online-Endpoint Yaml and Online-Deployment Yaml"
   ]
  },
  {
   "cell_type": "code",
   "execution_count": null,
   "metadata": {
    "vscode": {
     "languageId": "shellscript"
    }
   },
   "outputs": [],
   "source": [
    "%%bash\n",
    "\n",
    "envsubst '$DEPLOYER_COMPUTE_NAME $DEPLOYER_JOB_NAME $ENDPOINT_NAME $DEPLOYMENT_NAME' < deployer_job_template.yml > deployer_job.yml\n",
    "envsubst '$ENDPOINT_NAME $DEPLOYMENT_NAME' < endpoint_template.yml > endpoint.yml\n",
    "envsubst '$ENDPOINT_NAME $DEPLOYMENT_NAME $INFERENCE_SERVICE_COMPUTE_SIZE' < deployment_template.yml > deployment.yml"
   ]
  },
  {
   "attachments": {},
   "cell_type": "markdown",
   "metadata": {},
   "source": [
    "### Create the Deployer Job and Wait For Job To Finish"
   ]
  },
  {
   "cell_type": "code",
   "execution_count": null,
   "metadata": {
    "vscode": {
     "languageId": "shellscript"
    }
   },
   "outputs": [],
   "source": [
    "%%bash\n",
    "\n",
    "az ml job create --name $DEPLOYER_JOB_NAME --file deployer_job.yml\n",
    "\n",
    "status=\"\"\n",
    "while [[ ! \"$status\" =~ ^(Completed|Failed|Canceled|NotResponding|Paused)$ ]];\n",
    "do\n",
    "    status=$(az ml job show --name $DEPLOYER_JOB_NAME --query \"status\" -o tsv)\n",
    "    echo \"Current status: $status\"\n",
    "    sleep 3\n",
    "done\n",
    "\n",
    "if [ \"$status\" != \"Completed\" ]; then echo \"Deployer job $DEPLOYER_JOB_NAME failed!\" && exit 1; fi"
   ]
  },
  {
   "attachments": {},
   "cell_type": "markdown",
   "metadata": {},
   "source": [
    "### Download Output Files and Copy Files to The Profiler Folder and The Deleter Folder"
   ]
  },
  {
   "cell_type": "code",
   "execution_count": null,
   "metadata": {
    "tags": [],
    "vscode": {
     "languageId": "shellscript"
    }
   },
   "outputs": [],
   "source": [
    "%%bash\n",
    "\n",
    "az ml job download --name $DEPLOYER_JOB_NAME --all --download-path $DEPLOYER_DOWNLOAD_FOLDER\n",
    "cp $DEPLOYER_DOWNLOAD_FOLDER/artifacts/outputs/deployment_settings.json ../profiler/\n",
    "cp $DEPLOYER_DOWNLOAD_FOLDER/artifacts/outputs/deployment_settings.json ../deleter/"
   ]
  },
  {
   "attachments": {},
   "cell_type": "markdown",
   "metadata": {},
   "source": [
    "# Step 3: Profile your online-endpoint"
   ]
  },
  {
   "cell_type": "code",
   "execution_count": null,
   "metadata": {
    "vscode": {
     "languageId": "shellscript"
    }
   },
   "outputs": [],
   "source": [
    "%cd ../profiler"
   ]
  },
  {
   "attachments": {},
   "cell_type": "markdown",
   "metadata": {},
   "source": [
    "### Set Environment Variables"
   ]
  },
  {
   "cell_type": "code",
   "execution_count": null,
   "metadata": {
    "vscode": {
     "languageId": "shellscript"
    }
   },
   "outputs": [],
   "source": [
    "%set_env PROFILER_JOB_NAME=profiler-job-$timestamp\n",
    "%set_env PROFILER_COMPUTE_NAME=profilingTest\n",
    "%set_env PROFILER_COMPUTE_SIZE=Standard_F4s_v2\n",
    "%set_env PROFILER_DOWNLOAD_FOLDER=../downloads/profiler_output"
   ]
  },
  {
   "attachments": {},
   "cell_type": "markdown",
   "metadata": {},
   "source": [
    "### Create an Aml Compute"
   ]
  },
  {
   "cell_type": "code",
   "execution_count": null,
   "metadata": {
    "vscode": {
     "languageId": "shellscript"
    }
   },
   "outputs": [],
   "source": [
    "%%bash\n",
    "az ml compute create --name $PROFILER_COMPUTE_NAME --size $PROFILER_COMPUTE_SIZE --identity-type SystemAssigned --type amlcompute\n",
    "\n",
    "# Create a role-assignment\n",
    "compute_info=`az ml compute show --name $PROFILER_COMPUTE_NAME --query '{\"id\": id, \"identity_object_id\": identity.principal_id}' -o json`\n",
    "workspace_resource_id=`echo $compute_info | jq -r '.id' | sed 's/\\(.*\\)\\/computes\\/.*/\\1/'`\n",
    "identity_object_id=`echo $compute_info | jq -r '.identity_object_id'`\n",
    "az role assignment create --role Contributor --assignee-object-id $identity_object_id --assignee-principal-type ServicePrincipal --scope $workspace_resource_id\n",
    "if [[ $? -ne 0 ]]; then echo \"Failed to create role assignment for compute $PROFILER_COMPUTE_NAME\" && exit 1; fi"
   ]
  },
  {
   "attachments": {},
   "cell_type": "markdown",
   "metadata": {},
   "source": [
    "### Create the Profiler Job Yaml"
   ]
  },
  {
   "cell_type": "code",
   "execution_count": null,
   "metadata": {
    "tags": [],
    "vscode": {
     "languageId": "shellscript"
    }
   },
   "outputs": [],
   "source": [
    "%%bash\n",
    "\n",
    "envsubst '$PROFILER_COMPUTE_NAME $PROFILER_JOB_NAME $DEPLOYMENT_NAME' < profiler_job_template.yml > profiler_job.yml"
   ]
  },
  {
   "attachments": {},
   "cell_type": "markdown",
   "metadata": {},
   "source": [
    "### Create the Profiler Job and Wait For Job To Finish"
   ]
  },
  {
   "cell_type": "code",
   "execution_count": null,
   "metadata": {
    "vscode": {
     "languageId": "shellscript"
    }
   },
   "outputs": [],
   "source": [
    "%%bash\n",
    "\n",
    "az ml job create --name $PROFILER_JOB_NAME --file profiler_job.yml\n",
    "\n",
    "status=\"\"\n",
    "while [[ ! \"$status\" =~ ^(Completed|Failed|Canceled|NotResponding|Paused)$ ]];\n",
    "do\n",
    "    status=$(az ml job show --name $PROFILER_JOB_NAME --query \"status\" -o tsv)\n",
    "    echo \"Current status: $status\"\n",
    "    sleep 3\n",
    "done\n",
    "\n",
    "if [ \"$status\" != \"Completed\" ]; then echo \"Profiler job $PROFILER_JOB_NAME failed!\" && exit 1; fi"
   ]
  },
  {
   "attachments": {},
   "cell_type": "markdown",
   "metadata": {},
   "source": [
    "### Download Output Files"
   ]
  },
  {
   "cell_type": "code",
   "execution_count": null,
   "metadata": {
    "vscode": {
     "languageId": "shellscript"
    }
   },
   "outputs": [],
   "source": [
    "!az ml job download --name $PROFILER_JOB_NAME --all --download-path $PROFILER_DOWNLOAD_FOLDER"
   ]
  },
  {
   "attachments": {},
   "cell_type": "markdown",
   "metadata": {},
   "source": [
    "# Step 4: Delete the online-endpoint"
   ]
  },
  {
   "cell_type": "code",
   "execution_count": null,
   "metadata": {
    "vscode": {
     "languageId": "shellscript"
    }
   },
   "outputs": [],
   "source": [
    "%cd ../deleter"
   ]
  },
  {
   "attachments": {},
   "cell_type": "markdown",
   "metadata": {},
   "source": [
    "### Set Environment Variables"
   ]
  },
  {
   "cell_type": "code",
   "execution_count": null,
   "metadata": {
    "vscode": {
     "languageId": "shellscript"
    }
   },
   "outputs": [],
   "source": [
    "%set_env DELETER_JOB_NAME=deleter-job-$timestamp\n",
    "# will reuse the aml compute for the online-endpoint deployer job\n",
    "%set_env DELETER_COMPUTE_NAME=deploymentTest\n",
    "%set_env DELETER_DOWNLOAD_FOLDER=../downloads/deleter_output"
   ]
  },
  {
   "attachments": {},
   "cell_type": "markdown",
   "metadata": {},
   "source": [
    "### Create the Deleter Job Yaml"
   ]
  },
  {
   "cell_type": "code",
   "execution_count": null,
   "metadata": {
    "vscode": {
     "languageId": "shellscript"
    }
   },
   "outputs": [],
   "source": [
    "%%bash\n",
    "\n",
    "envsubst '$DELETER_COMPUTE_NAME $DELETER_JOB_NAME $ENDPOINT_NAME $DEPLOYMENT_NAME' < deleter_job_template.yml > deleter_job.yml"
   ]
  },
  {
   "attachments": {},
   "cell_type": "markdown",
   "metadata": {},
   "source": [
    "### Create the Deleter Job and Wait For Job To Finish"
   ]
  },
  {
   "cell_type": "code",
   "execution_count": null,
   "metadata": {
    "vscode": {
     "languageId": "shellscript"
    }
   },
   "outputs": [],
   "source": [
    "%%bash\n",
    "\n",
    "az ml job create --name $DELETER_JOB_NAME --file deleter_job.yml\n",
    "\n",
    "status=\"\"\n",
    "while [[ ! \"$status\" =~ ^(Completed|Failed|Canceled|NotResponding|Paused)$ ]];\n",
    "do\n",
    "    status=$(az ml job show --name $DELETER_JOB_NAME --query \"status\" -o tsv)\n",
    "    echo \"Current status: $status\"\n",
    "    sleep 3\n",
    "done\n",
    "\n",
    "if [ \"$status\" != \"Completed\" ]; then echo \"Deleter job $DELETER_JOB_NAME failed!\" && exit 1; fi"
   ]
  },
  {
   "attachments": {},
   "cell_type": "markdown",
   "metadata": {},
   "source": [
    "### Download Output Files"
   ]
  },
  {
   "cell_type": "code",
   "execution_count": null,
   "metadata": {
    "vscode": {
     "languageId": "shellscript"
    }
   },
   "outputs": [],
   "source": [
    "!az ml job download --name $DELETER_JOB_NAME --all --download-path $DELETER_DOWNLOAD_FOLDER"
   ]
  }
 ],
 "metadata": {
  "kernelspec": {
   "display_name": "Python 3.8.2 ('venv': venv)",
   "language": "python",
   "name": "python3"
  },
  "language_info": {
   "codemirror_mode": {
    "name": "ipython",
    "version": 3
   },
   "file_extension": ".py",
   "mimetype": "text/x-python",
   "name": "python",
   "nbconvert_exporter": "python",
   "pygments_lexer": "ipython3",
   "version": "3.9.5"
  },
  "metadata": {
   "interpreter": {
    "hash": "b79f906a963c6a91675bf995089879f1fdfc2c3332e569d164e64d5005394ab2"
   }
  },
  "orig_nbformat": 2,
  "vscode": {
   "interpreter": {
    "hash": "69cef6aa408e6b68b41e5496a54c600635bf72566cab4eab44776299ee22ebec"
   }
  }
 },
 "nbformat": 4,
 "nbformat_minor": 2
}
